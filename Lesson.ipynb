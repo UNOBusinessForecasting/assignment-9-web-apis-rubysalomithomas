{
  "cells": [
    {
      "cell_type": "markdown",
      "id": "ae46a534-3fb2-431b-9a2e-aced08023ac0",
      "metadata": {
        "id": "ae46a534-3fb2-431b-9a2e-aced08023ac0"
      },
      "source": [
        "## Web APIs - The Alternative to Scraping"
      ]
    },
    {
      "cell_type": "markdown",
      "id": "2a5393a0-6934-4189-8d87-090f7feea125",
      "metadata": {
        "id": "2a5393a0-6934-4189-8d87-090f7feea125"
      },
      "source": [
        "Web scraping doesn't always work. Many modern websites are built in a way that makes it particularly hard to scrape. They may do one of the following:\n",
        "\n",
        "- Incorporate \"infinite scrolling\", so that the page that is loaded is not the same as the content you want to scrape\n",
        "- Block scraping through bot detection\n",
        "- Have a website sufficiently complex that scraping is too hard to implement\n",
        "\n",
        "Why would websites actively discourage or even make scraping impossible? For the most part, we can imagine websites as a storefront. The website is designed to provide some good or service in exchange for either money (through purchases) or in exchange for the consumption of advertisements or other forms of compensation. Although these \"storefronts\" are online, they are not costless.\n",
        "\n",
        "Every time a website is requested, the server must send that information to the person/computer/bot that has requested it. This might be very cheap for a single request, but these costs add up when hundreds, thousands, or even millions of requests must be processed. When we scrape a website, we are in essence trying to collect a good (data) without compensating the group who maintains the website. For this reason, many websites will seek to block web scraping whenever they detect it, and will include a statement to this effect in their terms of service.\n",
        "\n",
        "In cases where scraping is not feasible for one reason or another, we will need an alternative way to collect data. Web APIs will be our key to data collection in these situations.\n"
      ]
    },
    {
      "cell_type": "markdown",
      "id": "23fbaebd-86ae-4280-85d3-103a06e42686",
      "metadata": {
        "id": "23fbaebd-86ae-4280-85d3-103a06e42686"
      },
      "source": [
        "## What are web APIs?\n",
        "\n",
        "The acronym **API** stands for **Application Programming Interface**, and is the name for the way in which a program or user may communicate with another program. Using an API enables the creation of explicit mechanisms for input and output of data.\n",
        "\n",
        "A **web API** is simply the API that allows users and programs to interact with a website or web service, so that we can automate or streamline online interactions. APIs are used for the following (and much more!):\n",
        "\n",
        "- 3rd party social media apps\n",
        "- Map interfaces on business websites\n",
        "- Data collection\n",
        "\n",
        "\n",
        "### Comparing APIs to Scraping\n",
        "\n",
        "When using a web API, our process is very different than when we scrape. As discussed earlier, scraping typically occurs at the expense of the service provider, making many websites averse to allowing scraping to take place. On the other hand, when using an API, there is an explicit agreement between the provider of data and the consumer. In many cases, APIs cost money to use, and are designed to compensate the service provider in a transaction reflecting the fact that the consumer no longer seeks to buy a good/service on the website or view advertisements. Instead, the data being transferred is the product to be consumed.\n",
        "\n",
        "While we will use a free and open API to learn during this class, bear in mind that many (if not most) APIs will require the user to register before making requests, and may also require payment. This arrangement allows both users and providers to benefit from the exchange of data.\n"
      ]
    },
    {
      "cell_type": "markdown",
      "id": "77c5c1ae-1764-4b51-bd36-5f5a3ce156cc",
      "metadata": {
        "id": "77c5c1ae-1764-4b51-bd36-5f5a3ce156cc"
      },
      "source": [
        "## Using a web API\n",
        "\n",
        "To learn about using web APIs, we will experiment with the free location API provided by [zippopotam.us](http://www.zippopotam.us/). We will learn the basics of API use with the simple examples that can be implemented through the Zippopotamus API, and hopefully make some fun graphs while we are at it!\n",
        "\n",
        "Most web APIs are accessed through the use of a URL, just like any other website. We then use the various extensions of the URL to make a request for an API call, rather than to request a specific website. Let's give this a try with the `requests` library, and see what we get back as we request various URLs from Zippopotamus:"
      ]
    },
    {
      "cell_type": "code",
      "execution_count": null,
      "id": "46fe937a-474d-40e8-8a46-f63f73fa00dd",
      "metadata": {
        "id": "46fe937a-474d-40e8-8a46-f63f73fa00dd"
      },
      "outputs": [],
      "source": [
        "import requests\n",
        "\n",
        "requests.get(\"https://api.zippopotam.us/us/68022\").text"
      ]
    },
    {
      "cell_type": "markdown",
      "id": "107b08c6-3ae5-4cfb-98aa-e253d5068529",
      "metadata": {
        "id": "107b08c6-3ae5-4cfb-98aa-e253d5068529"
      },
      "source": [
        "    '{\"post code\": \"68022\", \"country\": \"United States\", \"country abbreviation\": \"US\", \"places\": [{\"place name\": \"Elkhorn\", \"longitude\": \"-96.2431\", \"state\": \"Nebraska\", \"state abbreviation\": \"NE\", \"latitude\": \"41.2756\"}]}'"
      ]
    },
    {
      "cell_type": "markdown",
      "id": "bdb7f50b-427c-42b5-a43e-566b2cc0823b",
      "metadata": {
        "id": "bdb7f50b-427c-42b5-a43e-566b2cc0823b"
      },
      "source": [
        "Cool! We got some random stuff when we requested a random page from Zippopotamus... What is this? Let's break down our URL to learn more about what is going on:\n",
        "\n",
        " - `https://api.zippopotam.us` is the URL that we will always call when making requests to or from Zippopotamus\n",
        " - `/us` tells Zippopotamus that the location we are referencing is in the United States\n",
        " - `/68022` is the postal code for which we want to extract information from Zippopotamus\n",
        "\n",
        "The data that we receive back from our request is information about the postal code that we want to examine. Before we start learning how to work with our results, let's try another API call:"
      ]
    },
    {
      "cell_type": "markdown",
      "id": "04922d3f-5031-4014-8d45-c5890a32fc14",
      "metadata": {
        "id": "04922d3f-5031-4014-8d45-c5890a32fc14"
      },
      "source": [
        "requests.get(\"https://api.zippopotam.us/us/wa/redmond\").text"
      ]
    },
    {
      "cell_type": "markdown",
      "id": "d01a5dfa-49ee-4835-a3d6-c5e5992a7139",
      "metadata": {
        "id": "d01a5dfa-49ee-4835-a3d6-c5e5992a7139"
      },
      "source": [
        "    '{\"country abbreviation\": \"US\", \"places\": [{\"place name\": \"Redmond\", \"longitude\": \"-122.1232\", \"post code\": \"98052\", \"latitude\": \"47.6718\"}, {\"place name\": \"Redmond\", \"longitude\": \"-122.0386\", \"post code\": \"98053\", \"latitude\": \"47.6462\"}, {\"place name\": \"Redmond\", \"longitude\": \"-121.8034\", \"post code\": \"98073\", \"latitude\": \"47.4323\"}], \"country\": \"United States\", \"place name\": \"Redmond\", \"state\": \"Washington\", \"state abbreviation\": \"WA\"}'\n",
        "\n",
        "\n",
        "\n",
        "In this new request, we have the following:\n",
        "\n",
        "- `https://api.zippopotam.us` is the URL that we will always call when making requests to or from Zippopotamus\n",
        "- `/us` tells Zippopotamus that the location we are referencing is in the United States\n",
        "- `/wa` tells Zippopotamus that the location is in Washington state\n",
        "- `/redmond` is the city for which we would like to extract information\n",
        "\n",
        "As might be evident from the differences between the two requests we have made, many APIs are able to access different kinds of information depending on the different requests that we make. We can find information on the city in which a postal code is located, or we can find postal codes within a city of interest! This will allow us to make requests that will generate a map of places that I have lived during my life. Let's try it out."
      ]
    },
    {
      "cell_type": "code",
      "execution_count": null,
      "id": "03c15d92-7c94-4b38-9ee8-5e595353086f",
      "metadata": {
        "id": "03c15d92-7c94-4b38-9ee8-5e595353086f"
      },
      "outputs": [],
      "source": [
        "livedThere = [\n",
        "    {\"country\": \"/us\", \"postal_code\": \"/92056\"},\n",
        "    {\"country\": \"/us\", \"postal_code\": \"/98052\"},\n",
        "    {\"country\": \"/us\", \"postal_code\": \"/84602\"},\n",
        "    {\"country\": \"/br\", \"postal_code\": \"/96225-000\"},\n",
        "    {\"country\": \"/br\", \"postal_code\": \"/96600-000\"},\n",
        "    {\"country\": \"/us\", \"postal_code\": \"/99163\"},\n",
        "    {\"country\": \"/us\", \"postal_code\": \"/68022\"},\n",
        "    {\"country\": \"/us\", \"postal_code\": \"/84102\"},\n",
        "]"
      ]
    },
    {
      "cell_type": "markdown",
      "id": "986d91f3-cd63-4dcc-acdb-b0656a169619",
      "metadata": {
        "id": "986d91f3-cd63-4dcc-acdb-b0656a169619"
      },
      "source": [
        "The cell above contains a list of dictionaries. I will iterate over this list to create my API calls:"
      ]
    },
    {
      "cell_type": "code",
      "execution_count": null,
      "id": "8df503a9-dbad-43c2-ba76-b39fb64ec383",
      "metadata": {
        "id": "8df503a9-dbad-43c2-ba76-b39fb64ec383"
      },
      "outputs": [],
      "source": [
        "for i in livedThere:\n",
        "    call = \"https://api.zippopotam.us{0}{1}\".format(i[\"country\"],i[\"postal_code\"])\n",
        "    print(call)"
      ]
    },
    {
      "cell_type": "markdown",
      "id": "054691ba-437e-443e-8b06-a123b9bfb9dd",
      "metadata": {
        "id": "054691ba-437e-443e-8b06-a123b9bfb9dd"
      },
      "source": [
        "    https://api.zippopotam.us/us/92056\n",
        "    https://api.zippopotam.us/us/98052\n",
        "    https://api.zippopotam.us/us/84602\n",
        "    https://api.zippopotam.us/br/96225-000\n",
        "    https://api.zippopotam.us/br/96600-000\n",
        "    https://api.zippopotam.us/us/99163\n",
        "    https://api.zippopotam.us/us/68022\n",
        "    https://api.zippopotam.us/us/84102\n",
        "\n",
        "\n",
        "The above code combines my country codes for each location with the postal code and the base-URL to provide my API call. Now it is time to write some code to retrieve each request and store the results in a new list:"
      ]
    },
    {
      "cell_type": "code",
      "execution_count": null,
      "id": "da4d6a90-afef-45a0-b031-1f69a75c24f5",
      "metadata": {
        "id": "da4d6a90-afef-45a0-b031-1f69a75c24f5"
      },
      "outputs": [],
      "source": [
        "locales = []\n",
        "\n",
        "for i in livedThere:\n",
        "    call = \"https://api.zippopotam.us{0}{1}\".format(i[\"country\"],i[\"postal_code\"])\n",
        "    locales.append(requests.get(call).text)\n",
        "\n",
        "locales"
      ]
    },
    {
      "cell_type": "markdown",
      "id": "41cf6d1b-5b6b-4ed2-bc43-abc4a516e10b",
      "metadata": {
        "id": "41cf6d1b-5b6b-4ed2-bc43-abc4a516e10b"
      },
      "source": [
        "    ['{\"post code\": \"92056\", \"country\": \"United States\", \"country abbreviation\": \"US\", \"places\": [{\"place name\": \"Oceanside\", \"longitude\": \"-117.2831\", \"state\": \"California\", \"state abbreviation\": \"CA\", \"latitude\": \"33.1968\"}]}',\n",
        "     '{\"post code\": \"98052\", \"country\": \"United States\", \"country abbreviation\": \"US\", \"places\": [{\"place name\": \"Redmond\", \"longitude\": \"-122.1232\", \"state\": \"Washington\", \"state abbreviation\": \"WA\", \"latitude\": \"47.6718\"}]}',\n",
        "     '{\"post code\": \"84602\", \"country\": \"United States\", \"country abbreviation\": \"US\", \"places\": [{\"place name\": \"Provo\", \"longitude\": \"-111.7325\", \"state\": \"Utah\", \"state abbreviation\": \"UT\", \"latitude\": \"40.3563\"}]}',\n",
        "     '{\"post code\": \"96225-000\", \"country\": \"Brazil\", \"country abbreviation\": \"BR\", \"places\": [{\"place name\": \"S\\\\u00e3o Jos\\\\u00e9 do Norte\", \"longitude\": \"-51.762\", \"state\": \"Rio Grande do Sul\", \"state abbreviation\": \"23\", \"latitude\": \"-31.8009\"}]}',\n",
        "     '{\"post code\": \"96600-000\", \"country\": \"Brazil\", \"country abbreviation\": \"BR\", \"places\": [{\"place name\": \"Cangu\\\\u00e7u\", \"longitude\": \"-52.6682\", \"state\": \"Rio Grande do Sul\", \"state abbreviation\": \"23\", \"latitude\": \"-31.2117\"}]}',\n",
        "     '{\"post code\": \"99163\", \"country\": \"United States\", \"country abbreviation\": \"US\", \"places\": [{\"place name\": \"Pullman\", \"longitude\": \"-117.1729\", \"state\": \"Washington\", \"state abbreviation\": \"WA\", \"latitude\": \"46.7352\"}]}',\n",
        "     '{\"post code\": \"68022\", \"country\": \"United States\", \"country abbreviation\": \"US\", \"places\": [{\"place name\": \"Elkhorn\", \"longitude\": \"-96.2431\", \"state\": \"Nebraska\", \"state abbreviation\": \"NE\", \"latitude\": \"41.2756\"}]}',\n",
        "     '{\"post code\": \"84102\", \"country\": \"United States\", \"country abbreviation\": \"US\", \"places\": [{\"place name\": \"Salt Lake City\", \"longitude\": \"-111.8627\", \"state\": \"Utah\", \"state abbreviation\": \"UT\", \"latitude\": \"40.76\"}]}']\n",
        "\n",
        "\n",
        "\n",
        "Awesome! We have the results! Except, they are really garbled....now we need to take these results and clean them up into a useable format. Let's figure out how."
      ]
    },
    {
      "cell_type": "markdown",
      "id": "aedce013-e281-4f9d-8166-c2f4de568f13",
      "metadata": {
        "id": "aedce013-e281-4f9d-8166-c2f4de568f13"
      },
      "source": [
        "## Processing `requests` results\n",
        "\n",
        "Each response from a web API will typically be returned in a **JSON** object. **JSON** stands for **Java Script Object Notation**, and is the standard format for transmitting information on the internet. While this may sound confusing, JSON is actually very easy for us to handle in Python, because it is structured EXACTLY like a Python dictionary. All we need is a way to take a JSON object and translate it into an official `dict` object.\n",
        "\n",
        "Lucky for us, the `json` library (built right into Python itself!) will make this an easy exercise."
      ]
    },
    {
      "cell_type": "code",
      "execution_count": null,
      "id": "203ef0b1-794d-49f5-9638-b0add95b9f00",
      "metadata": {
        "id": "203ef0b1-794d-49f5-9638-b0add95b9f00"
      },
      "outputs": [],
      "source": [
        "import json\n",
        "\n",
        "locales = [json.loads(i) for i in locales]\n",
        "\n",
        "locales"
      ]
    },
    {
      "cell_type": "markdown",
      "id": "64c1b15a-db6e-47e7-abbd-da78c543aa7f",
      "metadata": {
        "id": "64c1b15a-db6e-47e7-abbd-da78c543aa7f"
      },
      "source": [
        "    [{'post code': '92056',\n",
        "      'country': 'United States',\n",
        "      'country abbreviation': 'US',\n",
        "      'places': [{'place name': 'Oceanside',\n",
        "        'longitude': '-117.2831',\n",
        "        'state': 'California',\n",
        "        'state abbreviation': 'CA',\n",
        "        'latitude': '33.1968'}]},\n",
        "     {'post code': '98052',\n",
        "      'country': 'United States',\n",
        "      'country abbreviation': 'US',\n",
        "      'places': [{'place name': 'Redmond',\n",
        "        'longitude': '-122.1232',\n",
        "        'state': 'Washington',\n",
        "        'state abbreviation': 'WA',\n",
        "        'latitude': '47.6718'}]},\n",
        "     {'post code': '84602',\n",
        "      'country': 'United States',\n",
        "      'country abbreviation': 'US',\n",
        "      'places': [{'place name': 'Provo',\n",
        "        'longitude': '-111.7325',\n",
        "        'state': 'Utah',\n",
        "        'state abbreviation': 'UT',\n",
        "        'latitude': '40.3563'}]},\n",
        "     {'post code': '96225-000',\n",
        "      'country': 'Brazil',\n",
        "      'country abbreviation': 'BR',\n",
        "      'places': [{'place name': 'São José do Norte',\n",
        "        'longitude': '-51.762',\n",
        "        'state': 'Rio Grande do Sul',\n",
        "        'state abbreviation': '23',\n",
        "        'latitude': '-31.8009'}]},\n",
        "     {'post code': '96600-000',\n",
        "      'country': 'Brazil',\n",
        "      'country abbreviation': 'BR',\n",
        "      'places': [{'place name': 'Canguçu',\n",
        "        'longitude': '-52.6682',\n",
        "        'state': 'Rio Grande do Sul',\n",
        "        'state abbreviation': '23',\n",
        "        'latitude': '-31.2117'}]},\n",
        "     {'post code': '99163',\n",
        "      'country': 'United States',\n",
        "      'country abbreviation': 'US',\n",
        "      'places': [{'place name': 'Pullman',\n",
        "        'longitude': '-117.1729',\n",
        "        'state': 'Washington',\n",
        "        'state abbreviation': 'WA',\n",
        "        'latitude': '46.7352'}]},\n",
        "     {'post code': '68022',\n",
        "      'country': 'United States',\n",
        "      'country abbreviation': 'US',\n",
        "      'places': [{'place name': 'Elkhorn',\n",
        "        'longitude': '-96.2431',\n",
        "        'state': 'Nebraska',\n",
        "        'state abbreviation': 'NE',\n",
        "        'latitude': '41.2756'}]},\n",
        "     {'post code': '84102',\n",
        "      'country': 'United States',\n",
        "      'country abbreviation': 'US',\n",
        "      'places': [{'place name': 'Salt Lake City',\n",
        "        'longitude': '-111.8627',\n",
        "        'state': 'Utah',\n",
        "        'state abbreviation': 'UT',\n",
        "        'latitude': '40.76'}]}]\n",
        "\n",
        "\n",
        "\n",
        "And we are done making our data into Python data! That was easy! Next, let's just take this list of dictionaries, and make it into a Data Frame. It turns out that we can write a little bit of code to make Data Frames out of our API results through `pandas`:"
      ]
    },
    {
      "cell_type": "code",
      "execution_count": null,
      "id": "760cbf52-b40e-4ef9-84bd-c962495b2347",
      "metadata": {
        "id": "760cbf52-b40e-4ef9-84bd-c962495b2347"
      },
      "outputs": [],
      "source": [
        "import pandas as pd\n",
        "\n",
        "locales = pd.DataFrame(locales)\n",
        "\n",
        "data = []\n",
        "for i in locales.index:\n",
        "    temp = pd.DataFrame(locales.loc[i, 'places'])\n",
        "    temp['post_code'] = locales.loc[i, 'post code']\n",
        "    temp['country'] = locales.loc[i, 'country']\n",
        "    temp['country_code'] = locales.loc[i, 'country abbreviation']\n",
        "    data.append(temp)\n",
        "\n",
        "data = pd.concat(data, axis=0).reset_index(drop=True)\n",
        "\n",
        "data"
      ]
    },
    {
      "cell_type": "markdown",
      "id": "db9476f8-83df-44b1-ab91-7b9abea70544",
      "metadata": {
        "id": "db9476f8-83df-44b1-ab91-7b9abea70544"
      },
      "source": [
        "<div>\n",
        "<style scoped>\n",
        "    .dataframe tbody tr th:only-of-type {\n",
        "        vertical-align: middle;\n",
        "    }\n",
        "\n",
        "    .dataframe tbody tr th {\n",
        "        vertical-align: top;\n",
        "    }\n",
        "\n",
        "    .dataframe thead th {\n",
        "        text-align: right;\n",
        "    }\n",
        "</style>\n",
        "<table border=\"1\" class=\"dataframe\">\n",
        "  <thead>\n",
        "    <tr style=\"text-align: right;\">\n",
        "      <th></th>\n",
        "      <th>place name</th>\n",
        "      <th>longitude</th>\n",
        "      <th>state</th>\n",
        "      <th>state abbreviation</th>\n",
        "      <th>latitude</th>\n",
        "      <th>post_code</th>\n",
        "      <th>country</th>\n",
        "      <th>country_code</th>\n",
        "    </tr>\n",
        "  </thead>\n",
        "  <tbody>\n",
        "    <tr>\n",
        "      <th>0</th>\n",
        "      <td>Oceanside</td>\n",
        "      <td>-117.2831</td>\n",
        "      <td>California</td>\n",
        "      <td>CA</td>\n",
        "      <td>33.1968</td>\n",
        "      <td>92056</td>\n",
        "      <td>United States</td>\n",
        "      <td>US</td>\n",
        "    </tr>\n",
        "    <tr>\n",
        "      <th>1</th>\n",
        "      <td>Redmond</td>\n",
        "      <td>-122.1232</td>\n",
        "      <td>Washington</td>\n",
        "      <td>WA</td>\n",
        "      <td>47.6718</td>\n",
        "      <td>98052</td>\n",
        "      <td>United States</td>\n",
        "      <td>US</td>\n",
        "    </tr>\n",
        "    <tr>\n",
        "      <th>2</th>\n",
        "      <td>Provo</td>\n",
        "      <td>-111.7325</td>\n",
        "      <td>Utah</td>\n",
        "      <td>UT</td>\n",
        "      <td>40.3563</td>\n",
        "      <td>84602</td>\n",
        "      <td>United States</td>\n",
        "      <td>US</td>\n",
        "    </tr>\n",
        "    <tr>\n",
        "      <th>3</th>\n",
        "      <td>São José do Norte</td>\n",
        "      <td>-51.762</td>\n",
        "      <td>Rio Grande do Sul</td>\n",
        "      <td>23</td>\n",
        "      <td>-31.8009</td>\n",
        "      <td>96225-000</td>\n",
        "      <td>Brazil</td>\n",
        "      <td>BR</td>\n",
        "    </tr>\n",
        "    <tr>\n",
        "      <th>4</th>\n",
        "      <td>Canguçu</td>\n",
        "      <td>-52.6682</td>\n",
        "      <td>Rio Grande do Sul</td>\n",
        "      <td>23</td>\n",
        "      <td>-31.2117</td>\n",
        "      <td>96600-000</td>\n",
        "      <td>Brazil</td>\n",
        "      <td>BR</td>\n",
        "    </tr>\n",
        "    <tr>\n",
        "      <th>5</th>\n",
        "      <td>Pullman</td>\n",
        "      <td>-117.1729</td>\n",
        "      <td>Washington</td>\n",
        "      <td>WA</td>\n",
        "      <td>46.7352</td>\n",
        "      <td>99163</td>\n",
        "      <td>United States</td>\n",
        "      <td>US</td>\n",
        "    </tr>\n",
        "    <tr>\n",
        "      <th>6</th>\n",
        "      <td>Elkhorn</td>\n",
        "      <td>-96.2431</td>\n",
        "      <td>Nebraska</td>\n",
        "      <td>NE</td>\n",
        "      <td>41.2756</td>\n",
        "      <td>68022</td>\n",
        "      <td>United States</td>\n",
        "      <td>US</td>\n",
        "    </tr>\n",
        "    <tr>\n",
        "      <th>7</th>\n",
        "      <td>Salt Lake City</td>\n",
        "      <td>-111.8627</td>\n",
        "      <td>Utah</td>\n",
        "      <td>UT</td>\n",
        "      <td>40.76</td>\n",
        "      <td>84102</td>\n",
        "      <td>United States</td>\n",
        "      <td>US</td>\n",
        "    </tr>\n",
        "  </tbody>\n",
        "</table>\n",
        "</div>\n",
        "\n",
        "\n",
        "\n",
        "Now that we have a nice, clean Data Frame containing the information on different locations, we can make a map out of it (we will cover mapping later in this course):"
      ]
    },
    {
      "cell_type": "code",
      "execution_count": null,
      "id": "1027c7a1-d70f-4477-845c-75f637a746bf",
      "metadata": {
        "id": "1027c7a1-d70f-4477-845c-75f637a746bf"
      },
      "outputs": [],
      "source": [
        "import plotly.express as px\n",
        "\n",
        "px.scatter_geo(data, 'latitude', 'longitude',\n",
        "               hover_data=['place name', 'state', 'country'],\n",
        "               color='country',\n",
        "               projection = 'natural earth',\n",
        "               width = 900,\n",
        "               height = 600,\n",
        "               )"
      ]
    },
    {
      "cell_type": "markdown",
      "id": "90377ded-981a-416c-9aa2-20f46a279466",
      "metadata": {
        "id": "90377ded-981a-416c-9aa2-20f46a279466"
      },
      "source": [
        "And there you have it! A map of places that I have lived!\n",
        "\n",
        "![](newplot.png)\n",
        "\n",
        "It really looks a lot less impressive on a world map...\n",
        "\n",
        "APIs will allow us to do all sorts of amazing work. Some APIs that are awesome but require accounts are listed below:\n",
        "\n",
        "- [Twitter Realtime Tweet Filter](https://developer.twitter.com/en/docs/tweets/filter-realtime/overview)\n",
        "- [Tracker.gg](https://tracker.gg/)\n",
        "- [Google Maps Distance Matrix](https://developers.google.com/maps/documentation/distance-matrix/intro)\n",
        "\n",
        "With web scraping and APIs at our fingertips, our ability to gather and investigate data is limited only by our ability to come up with interesting research questions."
      ]
    },
    {
      "cell_type": "markdown",
      "id": "61705461-c2bf-46c9-9ed4-d741093b565d",
      "metadata": {
        "id": "61705461-c2bf-46c9-9ed4-d741093b565d"
      },
      "source": [
        "**Solve-it!**\n",
        "\n",
        "In the cell commented with `#si-exercise` is a Data Frame called `capitals` containing capital cities in states across the United States. Use the [Zippopotam.us](https://api.zippopotam.us) API to gather latitude and longitude information on each city, and add columns named `lat` and `lon` containing the latitude and longitude data for each city, respectively. Once you have done that, map all of the cities using their latitude and longitude data on a map with `scope=usa`. Store the map as a variable called `fig`.\n",
        "\n",
        "*Hints:*\n",
        "1. If you use my code from the notes above, you can't use the projection that I used with `scope=\"usa\"`. Get rid of the `projection` argument and replace it with the scope argument.\n",
        "2. You just need to grab a single latitude and longitude for the cities. I recommend using the first one in the list.\n",
        "\n",
        "You will be graded on the following:\n",
        "- Created columns named `lat` and `lon` in the `capitals` Data Frame [1 point]\n",
        "- `lat` contains correct latitude for the city [1 point]\n",
        "- `lon` contains correct longitude for the city [1 point]\n",
        "- Map (store as `fig`) displays capitals based on latitude and longitude values [1 point]"
      ]
    },
    {
      "cell_type": "code",
      "execution_count": 1,
      "id": "a0d72710-b6ed-4b30-83c1-3ae157bbda5e",
      "metadata": {
        "colab": {
          "base_uri": "https://localhost:8080/",
          "height": 865
        },
        "id": "a0d72710-b6ed-4b30-83c1-3ae157bbda5e",
        "outputId": "89d6ad5f-bd65-42ef-b5df-d63394528779"
      },
      "outputs": [
        {
          "output_type": "execute_result",
          "data": {
            "text/plain": [
              "<folium.folium.Map at 0x7c50071b2bc0>"
            ],
            "text/html": [
              "<div style=\"width:100%;\"><div style=\"position:relative;width:100%;height:0;padding-bottom:60%;\"><span style=\"color:#565656\">Make this Notebook Trusted to load map: File -> Trust Notebook</span><iframe srcdoc=\"&lt;!DOCTYPE html&gt;\n",
              "&lt;html&gt;\n",
              "&lt;head&gt;\n",
              "    \n",
              "    &lt;meta http-equiv=&quot;content-type&quot; content=&quot;text/html; charset=UTF-8&quot; /&gt;\n",
              "    \n",
              "        &lt;script&gt;\n",
              "            L_NO_TOUCH = false;\n",
              "            L_DISABLE_3D = false;\n",
              "        &lt;/script&gt;\n",
              "    \n",
              "    &lt;style&gt;html, body {width: 100%;height: 100%;margin: 0;padding: 0;}&lt;/style&gt;\n",
              "    &lt;style&gt;#map {position:absolute;top:0;bottom:0;right:0;left:0;}&lt;/style&gt;\n",
              "    &lt;script src=&quot;https://cdn.jsdelivr.net/npm/leaflet@1.9.3/dist/leaflet.js&quot;&gt;&lt;/script&gt;\n",
              "    &lt;script src=&quot;https://code.jquery.com/jquery-1.12.4.min.js&quot;&gt;&lt;/script&gt;\n",
              "    &lt;script src=&quot;https://cdn.jsdelivr.net/npm/bootstrap@5.2.2/dist/js/bootstrap.bundle.min.js&quot;&gt;&lt;/script&gt;\n",
              "    &lt;script src=&quot;https://cdnjs.cloudflare.com/ajax/libs/Leaflet.awesome-markers/2.0.2/leaflet.awesome-markers.js&quot;&gt;&lt;/script&gt;\n",
              "    &lt;link rel=&quot;stylesheet&quot; href=&quot;https://cdn.jsdelivr.net/npm/leaflet@1.9.3/dist/leaflet.css&quot;/&gt;\n",
              "    &lt;link rel=&quot;stylesheet&quot; href=&quot;https://cdn.jsdelivr.net/npm/bootstrap@5.2.2/dist/css/bootstrap.min.css&quot;/&gt;\n",
              "    &lt;link rel=&quot;stylesheet&quot; href=&quot;https://netdna.bootstrapcdn.com/bootstrap/3.0.0/css/bootstrap.min.css&quot;/&gt;\n",
              "    &lt;link rel=&quot;stylesheet&quot; href=&quot;https://cdn.jsdelivr.net/npm/@fortawesome/fontawesome-free@6.2.0/css/all.min.css&quot;/&gt;\n",
              "    &lt;link rel=&quot;stylesheet&quot; href=&quot;https://cdnjs.cloudflare.com/ajax/libs/Leaflet.awesome-markers/2.0.2/leaflet.awesome-markers.css&quot;/&gt;\n",
              "    &lt;link rel=&quot;stylesheet&quot; href=&quot;https://cdn.jsdelivr.net/gh/python-visualization/folium/folium/templates/leaflet.awesome.rotate.min.css&quot;/&gt;\n",
              "    \n",
              "            &lt;meta name=&quot;viewport&quot; content=&quot;width=device-width,\n",
              "                initial-scale=1.0, maximum-scale=1.0, user-scalable=no&quot; /&gt;\n",
              "            &lt;style&gt;\n",
              "                #map_c5171906010827e443e8faa18c30fb68 {\n",
              "                    position: relative;\n",
              "                    width: 100.0%;\n",
              "                    height: 100.0%;\n",
              "                    left: 0.0%;\n",
              "                    top: 0.0%;\n",
              "                }\n",
              "                .leaflet-container { font-size: 1rem; }\n",
              "            &lt;/style&gt;\n",
              "        \n",
              "&lt;/head&gt;\n",
              "&lt;body&gt;\n",
              "    \n",
              "    \n",
              "            &lt;div class=&quot;folium-map&quot; id=&quot;map_c5171906010827e443e8faa18c30fb68&quot; &gt;&lt;/div&gt;\n",
              "        \n",
              "&lt;/body&gt;\n",
              "&lt;script&gt;\n",
              "    \n",
              "    \n",
              "            var map_c5171906010827e443e8faa18c30fb68 = L.map(\n",
              "                &quot;map_c5171906010827e443e8faa18c30fb68&quot;,\n",
              "                {\n",
              "                    center: [39.8283, -98.5795],\n",
              "                    crs: L.CRS.EPSG3857,\n",
              "                    zoom: 4,\n",
              "                    zoomControl: true,\n",
              "                    preferCanvas: false,\n",
              "                }\n",
              "            );\n",
              "            L.control.scale().addTo(map_c5171906010827e443e8faa18c30fb68);\n",
              "\n",
              "            \n",
              "\n",
              "        \n",
              "    \n",
              "            var tile_layer_814ef74d7fdbc99b538a2568cff2e0b8 = L.tileLayer(\n",
              "                &quot;https://{s}.tile.openstreetmap.org/{z}/{x}/{y}.png&quot;,\n",
              "                {&quot;attribution&quot;: &quot;Data by \\u0026copy; \\u003ca target=\\&quot;_blank\\&quot; href=\\&quot;http://openstreetmap.org\\&quot;\\u003eOpenStreetMap\\u003c/a\\u003e, under \\u003ca target=\\&quot;_blank\\&quot; href=\\&quot;http://www.openstreetmap.org/copyright\\&quot;\\u003eODbL\\u003c/a\\u003e.&quot;, &quot;detectRetina&quot;: false, &quot;maxNativeZoom&quot;: 18, &quot;maxZoom&quot;: 18, &quot;minZoom&quot;: 0, &quot;noWrap&quot;: false, &quot;opacity&quot;: 1, &quot;subdomains&quot;: &quot;abc&quot;, &quot;tms&quot;: false}\n",
              "            ).addTo(map_c5171906010827e443e8faa18c30fb68);\n",
              "        \n",
              "    \n",
              "            var marker_979ee039da3209b15ab0cb620ebab6da = L.marker(\n",
              "                [32.357, -86.2578],\n",
              "                {}\n",
              "            ).addTo(map_c5171906010827e443e8faa18c30fb68);\n",
              "        \n",
              "    \n",
              "        var popup_6fafe4e65119877c6f3e1e1bdfad00a8 = L.popup({&quot;maxWidth&quot;: &quot;100%&quot;});\n",
              "\n",
              "        \n",
              "            \n",
              "                var html_e1d906e62a807c45adfa1e7afa277f4f = $(`&lt;div id=&quot;html_e1d906e62a807c45adfa1e7afa277f4f&quot; style=&quot;width: 100.0%; height: 100.0%;&quot;&gt;Montgomery&lt;/div&gt;`)[0];\n",
              "                popup_6fafe4e65119877c6f3e1e1bdfad00a8.setContent(html_e1d906e62a807c45adfa1e7afa277f4f);\n",
              "            \n",
              "        \n",
              "\n",
              "        marker_979ee039da3209b15ab0cb620ebab6da.bindPopup(popup_6fafe4e65119877c6f3e1e1bdfad00a8)\n",
              "        ;\n",
              "\n",
              "        \n",
              "    \n",
              "    \n",
              "            var marker_61514f6302f7237a61050bd5522504ee = L.marker(\n",
              "                [58.3628, -134.5294],\n",
              "                {}\n",
              "            ).addTo(map_c5171906010827e443e8faa18c30fb68);\n",
              "        \n",
              "    \n",
              "        var popup_c9357f45dde533fe9d062be6b82829b1 = L.popup({&quot;maxWidth&quot;: &quot;100%&quot;});\n",
              "\n",
              "        \n",
              "            \n",
              "                var html_cc0392a694c0fe449f643d9d7a03a844 = $(`&lt;div id=&quot;html_cc0392a694c0fe449f643d9d7a03a844&quot; style=&quot;width: 100.0%; height: 100.0%;&quot;&gt;Juneau&lt;/div&gt;`)[0];\n",
              "                popup_c9357f45dde533fe9d062be6b82829b1.setContent(html_cc0392a694c0fe449f643d9d7a03a844);\n",
              "            \n",
              "        \n",
              "\n",
              "        marker_61514f6302f7237a61050bd5522504ee.bindPopup(popup_c9357f45dde533fe9d062be6b82829b1)\n",
              "        ;\n",
              "\n",
              "        \n",
              "    \n",
              "    \n",
              "            var marker_8ee9a76671ad01503a9bd812cf0fef5b = L.marker(\n",
              "                [33.704, -112.3518],\n",
              "                {}\n",
              "            ).addTo(map_c5171906010827e443e8faa18c30fb68);\n",
              "        \n",
              "    \n",
              "        var popup_f443a323b9ab23189b65104fdbe812ea = L.popup({&quot;maxWidth&quot;: &quot;100%&quot;});\n",
              "\n",
              "        \n",
              "            \n",
              "                var html_646162d58e27acdd04451cf0bcc236e9 = $(`&lt;div id=&quot;html_646162d58e27acdd04451cf0bcc236e9&quot; style=&quot;width: 100.0%; height: 100.0%;&quot;&gt;Phoenix&lt;/div&gt;`)[0];\n",
              "                popup_f443a323b9ab23189b65104fdbe812ea.setContent(html_646162d58e27acdd04451cf0bcc236e9);\n",
              "            \n",
              "        \n",
              "\n",
              "        marker_8ee9a76671ad01503a9bd812cf0fef5b.bindPopup(popup_f443a323b9ab23189b65104fdbe812ea)\n",
              "        ;\n",
              "\n",
              "        \n",
              "    \n",
              "    \n",
              "            var marker_00fa6137069d947edb59317b786b7c79 = L.marker(\n",
              "                [34.9074, -92.1397],\n",
              "                {}\n",
              "            ).addTo(map_c5171906010827e443e8faa18c30fb68);\n",
              "        \n",
              "    \n",
              "        var popup_6e58344a9a5126dc9c2ef679c0b85e1b = L.popup({&quot;maxWidth&quot;: &quot;100%&quot;});\n",
              "\n",
              "        \n",
              "            \n",
              "                var html_ea84c5ab8f1f58659a889c7bf2cdc8ea = $(`&lt;div id=&quot;html_ea84c5ab8f1f58659a889c7bf2cdc8ea&quot; style=&quot;width: 100.0%; height: 100.0%;&quot;&gt;Little Rock&lt;/div&gt;`)[0];\n",
              "                popup_6e58344a9a5126dc9c2ef679c0b85e1b.setContent(html_ea84c5ab8f1f58659a889c7bf2cdc8ea);\n",
              "            \n",
              "        \n",
              "\n",
              "        marker_00fa6137069d947edb59317b786b7c79.bindPopup(popup_6e58344a9a5126dc9c2ef679c0b85e1b)\n",
              "        ;\n",
              "\n",
              "        \n",
              "    \n",
              "    \n",
              "            var marker_d7dde0b63e94bce6ca8ccd3c0e597af3 = L.marker(\n",
              "                [38.3805, -121.5554],\n",
              "                {}\n",
              "            ).addTo(map_c5171906010827e443e8faa18c30fb68);\n",
              "        \n",
              "    \n",
              "        var popup_d725b1e33a3efc20fde230d57b7205f4 = L.popup({&quot;maxWidth&quot;: &quot;100%&quot;});\n",
              "\n",
              "        \n",
              "            \n",
              "                var html_86ae20a3778c5f31e9c03346ac0de257 = $(`&lt;div id=&quot;html_86ae20a3778c5f31e9c03346ac0de257&quot; style=&quot;width: 100.0%; height: 100.0%;&quot;&gt;Sacramento&lt;/div&gt;`)[0];\n",
              "                popup_d725b1e33a3efc20fde230d57b7205f4.setContent(html_86ae20a3778c5f31e9c03346ac0de257);\n",
              "            \n",
              "        \n",
              "\n",
              "        marker_d7dde0b63e94bce6ca8ccd3c0e597af3.bindPopup(popup_d725b1e33a3efc20fde230d57b7205f4)\n",
              "        ;\n",
              "\n",
              "        \n",
              "    \n",
              "&lt;/script&gt;\n",
              "&lt;/html&gt;\" style=\"position:absolute;width:100%;height:100%;left:0;top:0;border:none !important;\" allowfullscreen webkitallowfullscreen mozallowfullscreen></iframe></div></div>"
            ]
          },
          "metadata": {},
          "execution_count": 1
        }
      ],
      "source": [
        "#si-exercise\n",
        "\n",
        "import pandas as pd\n",
        "import requests\n",
        "import folium\n",
        "\n",
        "# Load the capitals DataFrame\n",
        "# si-exercise\n",
        "capitals = pd.DataFrame({\n",
        "    'city': ['Montgomery', 'Juneau', 'Phoenix', 'Little Rock', 'Sacramento'],\n",
        "    'state': ['AL', 'AK', 'AZ', 'AR', 'CA']\n",
        "})\n",
        "\n",
        "# Function to get latitude and longitude for a city using Zippopotam.us API\n",
        "def get_lat_lon(city, state):\n",
        "    url = f'http://api.zippopotam.us/us/{state}/{city}'\n",
        "    response = requests.get(url)\n",
        "    data = response.json()\n",
        "    lat = data['places'][0]['latitude']\n",
        "    lon = data['places'][0]['longitude']\n",
        "    return lat, lon\n",
        "\n",
        "# Add columns for latitude and longitude\n",
        "capitals['lat'], capitals['lon'] = zip(*capitals.apply(lambda row: get_lat_lon(row['city'], row['state']), axis=1))\n",
        "\n",
        "# Create a map centered around the USA\n",
        "fig = folium.Map(location=[39.8283, -98.5795], zoom_start=4, control_scale=True)\n",
        "\n",
        "# Add markers for each capital city\n",
        "for index, row in capitals.iterrows():\n",
        "    folium.Marker(\n",
        "        location=[row['lat'], row['lon']],\n",
        "        popup=row['city']\n",
        "    ).add_to(fig)\n",
        "\n",
        "# Show the map\n",
        "fig"
      ]
    }
  ],
  "metadata": {
    "kernelspec": {
      "display_name": "Python 3 (ipykernel)",
      "language": "python",
      "name": "python3"
    },
    "language_info": {
      "codemirror_mode": {
        "name": "ipython",
        "version": 3
      },
      "file_extension": ".py",
      "mimetype": "text/x-python",
      "name": "python",
      "nbconvert_exporter": "python",
      "pygments_lexer": "ipython3",
      "version": "3.9.13"
    },
    "colab": {
      "provenance": []
    }
  },
  "nbformat": 4,
  "nbformat_minor": 5
}